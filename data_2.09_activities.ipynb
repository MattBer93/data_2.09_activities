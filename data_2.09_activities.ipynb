{
 "cells": [
  {
   "cell_type": "markdown",
   "id": "fb48b638",
   "metadata": {},
   "source": [
    "### Activity 1\n",
    "1 -Create the connection between SQL and Python and extract all the information from the loan table where the status is either A or B.\n",
    "\n",
    "\n",
    "\n",
    "2 -Use the executable class to run the query/queries. You can test the query/queries in SequelPro or Workbench and then use them with Python."
   ]
  },
  {
   "cell_type": "code",
   "execution_count": 1,
   "id": "c2a9139f",
   "metadata": {},
   "outputs": [
    {
     "name": "stdout",
     "output_type": "stream",
     "text": [
      "Requirement already satisfied: sqlalchemy in /opt/anaconda3/lib/python3.9/site-packages (1.4.32)\n",
      "Requirement already satisfied: greenlet!=0.4.17 in /opt/anaconda3/lib/python3.9/site-packages (from sqlalchemy) (1.1.1)\n",
      "Requirement already satisfied: PyMySQL in /opt/anaconda3/lib/python3.9/site-packages (1.0.2)\n"
     ]
    }
   ],
   "source": [
    "! pip install sqlalchemy\n",
    "! pip install PyMySQL"
   ]
  },
  {
   "cell_type": "code",
   "execution_count": 2,
   "id": "074d3507",
   "metadata": {},
   "outputs": [
    {
     "name": "stdout",
     "output_type": "stream",
     "text": [
      "········\n"
     ]
    }
   ],
   "source": [
    "import pymysql\n",
    "from sqlalchemy import create_engine\n",
    "import pandas as pd\n",
    "from sklearn.metrics import confusion_matrix\n",
    "from sklearn.model_selection import train_test_split\n",
    "from sklearn.linear_model import LogisticRegression\n",
    "import getpass  # to get the password without showing the input\n",
    "password = getpass.getpass()"
   ]
  },
  {
   "cell_type": "code",
   "execution_count": 3,
   "id": "b25b4e9e",
   "metadata": {},
   "outputs": [],
   "source": [
    "connection_string = 'mysql+pymysql://root:' + password + '@localhost/bank'\n",
    "engine = create_engine(connection_string)"
   ]
  },
  {
   "cell_type": "code",
   "execution_count": 13,
   "id": "db2bd7eb",
   "metadata": {},
   "outputs": [
    {
     "data": {
      "text/html": [
       "<div>\n",
       "<style scoped>\n",
       "    .dataframe tbody tr th:only-of-type {\n",
       "        vertical-align: middle;\n",
       "    }\n",
       "\n",
       "    .dataframe tbody tr th {\n",
       "        vertical-align: top;\n",
       "    }\n",
       "\n",
       "    .dataframe thead th {\n",
       "        text-align: right;\n",
       "    }\n",
       "</style>\n",
       "<table border=\"1\" class=\"dataframe\">\n",
       "  <thead>\n",
       "    <tr style=\"text-align: right;\">\n",
       "      <th></th>\n",
       "      <th>loan_id</th>\n",
       "      <th>account_id</th>\n",
       "      <th>date</th>\n",
       "      <th>amount</th>\n",
       "      <th>duration</th>\n",
       "      <th>payments</th>\n",
       "      <th>status</th>\n",
       "      <th>status_description</th>\n",
       "    </tr>\n",
       "  </thead>\n",
       "  <tbody>\n",
       "    <tr>\n",
       "      <th>0</th>\n",
       "      <td>5314</td>\n",
       "      <td>1787</td>\n",
       "      <td>930705</td>\n",
       "      <td>96396</td>\n",
       "      <td>12</td>\n",
       "      <td>8033.0</td>\n",
       "      <td>B</td>\n",
       "      <td>Defaulter - Contract Finished</td>\n",
       "    </tr>\n",
       "    <tr>\n",
       "      <th>1</th>\n",
       "      <td>5316</td>\n",
       "      <td>1801</td>\n",
       "      <td>930711</td>\n",
       "      <td>165960</td>\n",
       "      <td>36</td>\n",
       "      <td>4610.0</td>\n",
       "      <td>A</td>\n",
       "      <td>Good - Contract Finished</td>\n",
       "    </tr>\n",
       "    <tr>\n",
       "      <th>2</th>\n",
       "      <td>6863</td>\n",
       "      <td>9188</td>\n",
       "      <td>930728</td>\n",
       "      <td>127080</td>\n",
       "      <td>60</td>\n",
       "      <td>2118.0</td>\n",
       "      <td>A</td>\n",
       "      <td>Good - Contract Finished</td>\n",
       "    </tr>\n",
       "    <tr>\n",
       "      <th>3</th>\n",
       "      <td>5325</td>\n",
       "      <td>1843</td>\n",
       "      <td>930803</td>\n",
       "      <td>105804</td>\n",
       "      <td>36</td>\n",
       "      <td>2939.0</td>\n",
       "      <td>A</td>\n",
       "      <td>Good - Contract Finished</td>\n",
       "    </tr>\n",
       "    <tr>\n",
       "      <th>4</th>\n",
       "      <td>7240</td>\n",
       "      <td>11013</td>\n",
       "      <td>930906</td>\n",
       "      <td>274740</td>\n",
       "      <td>60</td>\n",
       "      <td>4579.0</td>\n",
       "      <td>A</td>\n",
       "      <td>Good - Contract Finished</td>\n",
       "    </tr>\n",
       "    <tr>\n",
       "      <th>...</th>\n",
       "      <td>...</td>\n",
       "      <td>...</td>\n",
       "      <td>...</td>\n",
       "      <td>...</td>\n",
       "      <td>...</td>\n",
       "      <td>...</td>\n",
       "      <td>...</td>\n",
       "      <td>...</td>\n",
       "    </tr>\n",
       "    <tr>\n",
       "      <th>229</th>\n",
       "      <td>5651</td>\n",
       "      <td>3329</td>\n",
       "      <td>971208</td>\n",
       "      <td>19248</td>\n",
       "      <td>12</td>\n",
       "      <td>1604.0</td>\n",
       "      <td>A</td>\n",
       "      <td>Good - Contract Finished</td>\n",
       "    </tr>\n",
       "    <tr>\n",
       "      <th>230</th>\n",
       "      <td>4962</td>\n",
       "      <td>25</td>\n",
       "      <td>971208</td>\n",
       "      <td>30276</td>\n",
       "      <td>12</td>\n",
       "      <td>2523.0</td>\n",
       "      <td>A</td>\n",
       "      <td>Good - Contract Finished</td>\n",
       "    </tr>\n",
       "    <tr>\n",
       "      <th>231</th>\n",
       "      <td>7199</td>\n",
       "      <td>10789</td>\n",
       "      <td>971209</td>\n",
       "      <td>45768</td>\n",
       "      <td>12</td>\n",
       "      <td>3814.0</td>\n",
       "      <td>A</td>\n",
       "      <td>Good - Contract Finished</td>\n",
       "    </tr>\n",
       "    <tr>\n",
       "      <th>232</th>\n",
       "      <td>6727</td>\n",
       "      <td>8505</td>\n",
       "      <td>971210</td>\n",
       "      <td>42840</td>\n",
       "      <td>12</td>\n",
       "      <td>3570.0</td>\n",
       "      <td>A</td>\n",
       "      <td>Good - Contract Finished</td>\n",
       "    </tr>\n",
       "    <tr>\n",
       "      <th>233</th>\n",
       "      <td>6059</td>\n",
       "      <td>5196</td>\n",
       "      <td>971228</td>\n",
       "      <td>79824</td>\n",
       "      <td>12</td>\n",
       "      <td>6652.0</td>\n",
       "      <td>A</td>\n",
       "      <td>Good - Contract Finished</td>\n",
       "    </tr>\n",
       "  </tbody>\n",
       "</table>\n",
       "<p>234 rows × 8 columns</p>\n",
       "</div>"
      ],
      "text/plain": [
       "     loan_id  account_id    date  amount  duration  payments status  \\\n",
       "0       5314        1787  930705   96396        12    8033.0      B   \n",
       "1       5316        1801  930711  165960        36    4610.0      A   \n",
       "2       6863        9188  930728  127080        60    2118.0      A   \n",
       "3       5325        1843  930803  105804        36    2939.0      A   \n",
       "4       7240       11013  930906  274740        60    4579.0      A   \n",
       "..       ...         ...     ...     ...       ...       ...    ...   \n",
       "229     5651        3329  971208   19248        12    1604.0      A   \n",
       "230     4962          25  971208   30276        12    2523.0      A   \n",
       "231     7199       10789  971209   45768        12    3814.0      A   \n",
       "232     6727        8505  971210   42840        12    3570.0      A   \n",
       "233     6059        5196  971228   79824        12    6652.0      A   \n",
       "\n",
       "                status_description  \n",
       "0    Defaulter - Contract Finished  \n",
       "1         Good - Contract Finished  \n",
       "2         Good - Contract Finished  \n",
       "3         Good - Contract Finished  \n",
       "4         Good - Contract Finished  \n",
       "..                             ...  \n",
       "229       Good - Contract Finished  \n",
       "230       Good - Contract Finished  \n",
       "231       Good - Contract Finished  \n",
       "232       Good - Contract Finished  \n",
       "233       Good - Contract Finished  \n",
       "\n",
       "[234 rows x 8 columns]"
      ]
     },
     "execution_count": 13,
     "metadata": {},
     "output_type": "execute_result"
    }
   ],
   "source": [
    "data1 = engine.execute(\"\"\"\n",
    "    SELECT * FROM loan\n",
    "    WHERE status = 'A' or status = 'B'\n",
    "\"\"\")\n",
    "\n",
    "# How to display it?\n",
    "rows = [row for row in data1]\n",
    "data1_df = pd.DataFrame(rows)\n",
    "# data1_df = data1_df.drop('status_description')\n",
    "data1_df"
   ]
  },
  {
   "cell_type": "markdown",
   "id": "5bf9dfcf",
   "metadata": {},
   "source": [
    "### Activity 2\n",
    "Pick any two queries from the queries that we have written so far and execute them in Python. The objective is to retrieve the data into a dataframe."
   ]
  },
  {
   "cell_type": "code",
   "execution_count": 16,
   "id": "15f5a050",
   "metadata": {},
   "outputs": [],
   "source": [
    "# # Use the transactions table in the bank database to find the Top 20 account_ids based on the amount.\n",
    "# data2 = engine.execute(\"\"\"\n",
    "#     select trans_id, type, amount,\n",
    "#     rank() over(partition by type order by amount desc) as ranking\n",
    "#     from trans;\n",
    "# \"\"\")\n",
    "\n",
    "# rows = [row for row in data2]\n",
    "# data2_df = pd.DataFrame(rows)\n",
    "# data2_df"
   ]
  },
  {
   "cell_type": "markdown",
   "id": "08b20cf5",
   "metadata": {},
   "source": [
    "### Activity 3\n",
    "How many new columns have been created?\n",
    "\n",
    "Answer: Only one, the row ID/ Row number"
   ]
  },
  {
   "cell_type": "markdown",
   "id": "08aadf7b",
   "metadata": {},
   "source": [
    "### Activity 4\n",
    "\n",
    "1) Understand the confusion matrix. Discuss the type 1 and 2 errors. Which one are we making? Which one is worse in our scenario?"
   ]
  },
  {
   "cell_type": "code",
   "execution_count": 18,
   "id": "e82549e9",
   "metadata": {},
   "outputs": [
    {
     "data": {
      "text/html": [
       "<div>\n",
       "<style scoped>\n",
       "    .dataframe tbody tr th:only-of-type {\n",
       "        vertical-align: middle;\n",
       "    }\n",
       "\n",
       "    .dataframe tbody tr th {\n",
       "        vertical-align: top;\n",
       "    }\n",
       "\n",
       "    .dataframe thead th {\n",
       "        text-align: right;\n",
       "    }\n",
       "</style>\n",
       "<table border=\"1\" class=\"dataframe\">\n",
       "  <thead>\n",
       "    <tr style=\"text-align: right;\">\n",
       "      <th></th>\n",
       "      <th>loan_id</th>\n",
       "      <th>account_id</th>\n",
       "      <th>date</th>\n",
       "      <th>amount</th>\n",
       "      <th>duration</th>\n",
       "      <th>payments</th>\n",
       "    </tr>\n",
       "  </thead>\n",
       "  <tbody>\n",
       "    <tr>\n",
       "      <th>0</th>\n",
       "      <td>5314</td>\n",
       "      <td>1787</td>\n",
       "      <td>930705</td>\n",
       "      <td>96396</td>\n",
       "      <td>12</td>\n",
       "      <td>8033.0</td>\n",
       "    </tr>\n",
       "    <tr>\n",
       "      <th>1</th>\n",
       "      <td>5316</td>\n",
       "      <td>1801</td>\n",
       "      <td>930711</td>\n",
       "      <td>165960</td>\n",
       "      <td>36</td>\n",
       "      <td>4610.0</td>\n",
       "    </tr>\n",
       "    <tr>\n",
       "      <th>2</th>\n",
       "      <td>6863</td>\n",
       "      <td>9188</td>\n",
       "      <td>930728</td>\n",
       "      <td>127080</td>\n",
       "      <td>60</td>\n",
       "      <td>2118.0</td>\n",
       "    </tr>\n",
       "    <tr>\n",
       "      <th>3</th>\n",
       "      <td>5325</td>\n",
       "      <td>1843</td>\n",
       "      <td>930803</td>\n",
       "      <td>105804</td>\n",
       "      <td>36</td>\n",
       "      <td>2939.0</td>\n",
       "    </tr>\n",
       "    <tr>\n",
       "      <th>4</th>\n",
       "      <td>7240</td>\n",
       "      <td>11013</td>\n",
       "      <td>930906</td>\n",
       "      <td>274740</td>\n",
       "      <td>60</td>\n",
       "      <td>4579.0</td>\n",
       "    </tr>\n",
       "    <tr>\n",
       "      <th>...</th>\n",
       "      <td>...</td>\n",
       "      <td>...</td>\n",
       "      <td>...</td>\n",
       "      <td>...</td>\n",
       "      <td>...</td>\n",
       "      <td>...</td>\n",
       "    </tr>\n",
       "    <tr>\n",
       "      <th>229</th>\n",
       "      <td>5651</td>\n",
       "      <td>3329</td>\n",
       "      <td>971208</td>\n",
       "      <td>19248</td>\n",
       "      <td>12</td>\n",
       "      <td>1604.0</td>\n",
       "    </tr>\n",
       "    <tr>\n",
       "      <th>230</th>\n",
       "      <td>4962</td>\n",
       "      <td>25</td>\n",
       "      <td>971208</td>\n",
       "      <td>30276</td>\n",
       "      <td>12</td>\n",
       "      <td>2523.0</td>\n",
       "    </tr>\n",
       "    <tr>\n",
       "      <th>231</th>\n",
       "      <td>7199</td>\n",
       "      <td>10789</td>\n",
       "      <td>971209</td>\n",
       "      <td>45768</td>\n",
       "      <td>12</td>\n",
       "      <td>3814.0</td>\n",
       "    </tr>\n",
       "    <tr>\n",
       "      <th>232</th>\n",
       "      <td>6727</td>\n",
       "      <td>8505</td>\n",
       "      <td>971210</td>\n",
       "      <td>42840</td>\n",
       "      <td>12</td>\n",
       "      <td>3570.0</td>\n",
       "    </tr>\n",
       "    <tr>\n",
       "      <th>233</th>\n",
       "      <td>6059</td>\n",
       "      <td>5196</td>\n",
       "      <td>971228</td>\n",
       "      <td>79824</td>\n",
       "      <td>12</td>\n",
       "      <td>6652.0</td>\n",
       "    </tr>\n",
       "  </tbody>\n",
       "</table>\n",
       "<p>234 rows × 6 columns</p>\n",
       "</div>"
      ],
      "text/plain": [
       "     loan_id  account_id    date  amount  duration  payments\n",
       "0       5314        1787  930705   96396        12    8033.0\n",
       "1       5316        1801  930711  165960        36    4610.0\n",
       "2       6863        9188  930728  127080        60    2118.0\n",
       "3       5325        1843  930803  105804        36    2939.0\n",
       "4       7240       11013  930906  274740        60    4579.0\n",
       "..       ...         ...     ...     ...       ...       ...\n",
       "229     5651        3329  971208   19248        12    1604.0\n",
       "230     4962          25  971208   30276        12    2523.0\n",
       "231     7199       10789  971209   45768        12    3814.0\n",
       "232     6727        8505  971210   42840        12    3570.0\n",
       "233     6059        5196  971228   79824        12    6652.0\n",
       "\n",
       "[234 rows x 6 columns]"
      ]
     },
     "execution_count": 18,
     "metadata": {},
     "output_type": "execute_result"
    }
   ],
   "source": [
    "# 1) Split Data in train and test data\n",
    "y = data1_df['status']\n",
    "X = data1_df.drop(['status', 'status_description'], axis = 1)\n",
    "\n",
    "X"
   ]
  },
  {
   "cell_type": "code",
   "execution_count": null,
   "id": "c4c0b2f2",
   "metadata": {},
   "outputs": [],
   "source": [
    "# Normally, you would now get dummies to encode categoricals\n",
    "\n",
    "# X = pd.get_dummies(X, columns=['type', 'operation', 'k_symbol'])\n",
    "# X"
   ]
  },
  {
   "cell_type": "code",
   "execution_count": 21,
   "id": "c0e3d82e",
   "metadata": {},
   "outputs": [],
   "source": [
    "# Now, split DataSet\n",
    "X_train, X_test, y_train, y_test = train_test_split(X, y, test_size=0.2, random_state=42) "
   ]
  },
  {
   "cell_type": "code",
   "execution_count": 31,
   "id": "3dcdfa90",
   "metadata": {},
   "outputs": [],
   "source": [
    "# Create a LogReg instance\n",
    "\n",
    "log_reg = LogisticRegression(random_state=42)"
   ]
  },
  {
   "cell_type": "code",
   "execution_count": 24,
   "id": "a680830f",
   "metadata": {},
   "outputs": [
    {
     "data": {
      "text/plain": [
       "LogisticRegression(random_state=42)"
      ]
     },
     "execution_count": 24,
     "metadata": {},
     "output_type": "execute_result"
    }
   ],
   "source": [
    "# Now train the model\n",
    "log_reg = LogisticRegression(random_state=42)\n",
    "log_reg.fit(X_train, y_train)"
   ]
  },
  {
   "cell_type": "code",
   "execution_count": 26,
   "id": "30725b7a",
   "metadata": {},
   "outputs": [
    {
     "data": {
      "text/plain": [
       "array(['A', 'A', 'A', 'A', 'A', 'A', 'A', 'A', 'A', 'A', 'A', 'A', 'A',\n",
       "       'A', 'A', 'A', 'A', 'A', 'A', 'A', 'A', 'A', 'A', 'A', 'A', 'A',\n",
       "       'A', 'A', 'A', 'A', 'A', 'A', 'A', 'A', 'A', 'A', 'A', 'A', 'A',\n",
       "       'A', 'A', 'A', 'A', 'A', 'A', 'A', 'A'], dtype=object)"
      ]
     },
     "execution_count": 26,
     "metadata": {},
     "output_type": "execute_result"
    }
   ],
   "source": [
    "#Let's get some predictions\n",
    "predictions = log_reg.predict(X_test)\n",
    "predictions"
   ]
  },
  {
   "cell_type": "code",
   "execution_count": 27,
   "id": "bd7de3c3",
   "metadata": {},
   "outputs": [
    {
     "data": {
      "text/plain": [
       "A    47\n",
       "dtype: int64"
      ]
     },
     "execution_count": 27,
     "metadata": {},
     "output_type": "execute_result"
    }
   ],
   "source": [
    "# Let's see how many As an Bs are there\n",
    "pd.Series(predictions).value_counts()"
   ]
  },
  {
   "cell_type": "code",
   "execution_count": 28,
   "id": "6d9e4225",
   "metadata": {},
   "outputs": [
    {
     "data": {
      "text/plain": [
       "array([[0.86596664, 0.13403336],\n",
       "       [0.93190147, 0.06809853],\n",
       "       [0.89997716, 0.10002284],\n",
       "       [0.87006494, 0.12993506],\n",
       "       [0.68971254, 0.31028746],\n",
       "       [0.92586101, 0.07413899],\n",
       "       [0.92736904, 0.07263096],\n",
       "       [0.91489466, 0.08510534],\n",
       "       [0.92948025, 0.07051975],\n",
       "       [0.93115814, 0.06884186],\n",
       "       [0.93940495, 0.06059505],\n",
       "       [0.81467561, 0.18532439],\n",
       "       [0.87581894, 0.12418106],\n",
       "       [0.84895077, 0.15104923],\n",
       "       [0.84900633, 0.15099367],\n",
       "       [0.83475988, 0.16524012],\n",
       "       [0.9382645 , 0.0617355 ],\n",
       "       [0.92001664, 0.07998336],\n",
       "       [0.91659777, 0.08340223],\n",
       "       [0.92509744, 0.07490256],\n",
       "       [0.92171523, 0.07828477],\n",
       "       [0.95827895, 0.04172105],\n",
       "       [0.91502614, 0.08497386],\n",
       "       [0.92358159, 0.07641841],\n",
       "       [0.88483187, 0.11516813],\n",
       "       [0.84593765, 0.15406235],\n",
       "       [0.93779535, 0.06220465],\n",
       "       [0.87254054, 0.12745946],\n",
       "       [0.91905818, 0.08094182],\n",
       "       [0.92282195, 0.07717805],\n",
       "       [0.92760104, 0.07239896],\n",
       "       [0.55802951, 0.44197049],\n",
       "       [0.93654775, 0.06345225],\n",
       "       [0.86973275, 0.13026725],\n",
       "       [0.8505889 , 0.1494111 ],\n",
       "       [0.84126943, 0.15873057],\n",
       "       [0.69877812, 0.30122188],\n",
       "       [0.81200361, 0.18799639],\n",
       "       [0.81265493, 0.18734507],\n",
       "       [0.91649311, 0.08350689],\n",
       "       [0.90814193, 0.09185807],\n",
       "       [0.85796642, 0.14203358],\n",
       "       [0.8977132 , 0.1022868 ],\n",
       "       [0.94269887, 0.05730113],\n",
       "       [0.91015237, 0.08984763],\n",
       "       [0.89684238, 0.10315762],\n",
       "       [0.83076237, 0.16923763]])"
      ]
     },
     "execution_count": 28,
     "metadata": {},
     "output_type": "execute_result"
    }
   ],
   "source": [
    "# How to check the probability of being A vs of Being B\n",
    "predictions_ = log_reg.predict_proba(X_test)\n",
    "predictions_"
   ]
  },
  {
   "cell_type": "code",
   "execution_count": 34,
   "id": "61000422",
   "metadata": {},
   "outputs": [
    {
     "data": {
      "text/plain": [
       "array([[41,  0],\n",
       "       [ 6,  0]])"
      ]
     },
     "execution_count": 34,
     "metadata": {},
     "output_type": "execute_result"
    }
   ],
   "source": [
    "# Confusion Matrix\n",
    "# It tells us how good the model is.\n",
    "# Divided in 4 sections if we're trying to predict 2 values, in 9 sections if we're trying to predict 3 values, etc\n",
    "confusion_matrix(y_test, predictions)"
   ]
  },
  {
   "cell_type": "code",
   "execution_count": 36,
   "id": "a1a03bb3",
   "metadata": {},
   "outputs": [],
   "source": [
    "# Type 1 Error:\n",
    "    # False Positive - when the model detects A, but it should have been B. For example, Fire alarm giving a false alarm.\n",
    "# Type 2 Error:\n",
    "    # False Negative - when the model detects B, but it should have been A. I.e, a false negative covid test.\n",
    "    \n",
    "    \n",
    "# We are having a False negative error, meaning there are 6 B's that should have been A's.\n"
   ]
  },
  {
   "cell_type": "markdown",
   "id": "78945dbd",
   "metadata": {},
   "source": [
    "Try normalize : {'true', 'pred', 'all'}, default=None. Normalizes confusion matrix over the true (rows), predicted (columns) conditions or all the population."
   ]
  },
  {
   "cell_type": "code",
   "execution_count": 42,
   "id": "ef7cffe5",
   "metadata": {},
   "outputs": [
    {
     "data": {
      "text/plain": [
       "array([[0.87234043, 0.        ],\n",
       "       [0.12765957, 0.        ]])"
      ]
     },
     "execution_count": 42,
     "metadata": {},
     "output_type": "execute_result"
    }
   ],
   "source": [
    "confusion_matrix(y_test, predictions, normalize='all')\n",
    "# confusion_matrix(y_test, predictions, normalize='pred')\n",
    "# confusion_matrix(y_test, predictions, normalize='true')"
   ]
  },
  {
   "cell_type": "code",
   "execution_count": null,
   "id": "0bca4475",
   "metadata": {},
   "outputs": [],
   "source": []
  },
  {
   "cell_type": "code",
   "execution_count": null,
   "id": "a6cb4489",
   "metadata": {},
   "outputs": [],
   "source": []
  }
 ],
 "metadata": {
  "kernelspec": {
   "display_name": "Python 3 (ipykernel)",
   "language": "python",
   "name": "python3"
  },
  "language_info": {
   "codemirror_mode": {
    "name": "ipython",
    "version": 3
   },
   "file_extension": ".py",
   "mimetype": "text/x-python",
   "name": "python",
   "nbconvert_exporter": "python",
   "pygments_lexer": "ipython3",
   "version": "3.9.12"
  }
 },
 "nbformat": 4,
 "nbformat_minor": 5
}
